{
 "cells": [
  {
   "cell_type": "code",
   "execution_count": 3,
   "id": "195db09a",
   "metadata": {},
   "outputs": [],
   "source": [
    "from qwenaug.model import download_model_weights\n",
    "download_model_weights('weights')\n"
   ]
  },
  {
   "cell_type": "code",
   "execution_count": null,
   "id": "434797c8",
   "metadata": {},
   "outputs": [],
   "source": [
    "from qwenaug.model import load_qwen_image_edit\n",
    "import torch\n",
    "import os\n",
    "from PIL import Image\n",
    "pipeline = load_qwen_image_edit()\n",
    "image = Image.open(\"examples/input.jpg\").convert(\"RGB\")\n",
    "prompt = \"Change the rabbit's color to purple, with a flash light background.\"\n",
    "inputs = {\n",
    "    \"image\": image,\n",
    "    \"prompt\": prompt,\n",
    "    \"generator\": torch.manual_seed(0),\n",
    "    \"true_cfg_scale\": 4.0,\n",
    "    \"negative_prompt\": \" \",\n",
    "    \"num_inference_steps\": 20,\n",
    "}\n",
    "\n",
    "if pipeline is not None:\n",
    "    print(\"Qwen-Image Diffusers model loaded successfully!\")\n",
    "    # You can now use the 'image_pipeline' object to generate images.\n",
    "    # For example:\n",
    "    # image = image_pipeline(\"A photo of a cat wearing a hat\")\n",
    "    # image.save(\"cat_with_hat.png\")\n",
    "else:\n",
    "    print(\"Failed to load Qwen-Image Diffusers model.\")\n",
    "\n",
    "with torch.inference_mode():\n",
    "    output = pipeline(**inputs)\n",
    "    output_image = output.images[0]\n",
    "    output_image.save(\"output_image_edit.png\")\n",
    "    print(\"image saved at\", os.path.abspath(\"output_image_edit.png\"))"
   ]
  }
 ],
 "metadata": {
  "kernelspec": {
   "display_name": "qwen-synthetic-augmentation",
   "language": "python",
   "name": "python3"
  },
  "language_info": {
   "codemirror_mode": {
    "name": "ipython",
    "version": 3
   },
   "file_extension": ".py",
   "mimetype": "text/x-python",
   "name": "python",
   "nbconvert_exporter": "python",
   "pygments_lexer": "ipython3",
   "version": "3.13.3"
  }
 },
 "nbformat": 4,
 "nbformat_minor": 5
}
